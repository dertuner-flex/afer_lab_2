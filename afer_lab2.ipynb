{
 "cells": [
  {
   "cell_type": "code",
   "execution_count": 644,
   "metadata": {},
   "outputs": [],
   "source": [
    "import numpy as np\n",
    "import pandas as pd\n",
    "import matplotlib.pyplot as plt\n",
    "%matplotlib inline"
   ]
  },
  {
   "cell_type": "code",
   "execution_count": 641,
   "metadata": {},
   "outputs": [],
   "source": [
    "from sklearn.metrics import mean_squared_error\n",
    "from sklearn.preprocessing import StandardScaler"
   ]
  },
  {
   "cell_type": "markdown",
   "metadata": {},
   "source": [
    "Для начала загрузим наша датасет. (https://www.kaggle.com/laotse/credit-risk-dataset)"
   ]
  },
  {
   "cell_type": "code",
   "execution_count": 10,
   "metadata": {},
   "outputs": [],
   "source": [
    "df = pd.read_csv('credit_risk_dataset.csv')"
   ]
  },
  {
   "cell_type": "markdown",
   "metadata": {},
   "source": [
    "Посмотрим на первые 5 строчек, что бы убедиться что датасет загрузился нормально."
   ]
  },
  {
   "cell_type": "code",
   "execution_count": 13,
   "metadata": {},
   "outputs": [
    {
     "data": {
      "text/html": [
       "<div>\n",
       "<style scoped>\n",
       "    .dataframe tbody tr th:only-of-type {\n",
       "        vertical-align: middle;\n",
       "    }\n",
       "\n",
       "    .dataframe tbody tr th {\n",
       "        vertical-align: top;\n",
       "    }\n",
       "\n",
       "    .dataframe thead th {\n",
       "        text-align: right;\n",
       "    }\n",
       "</style>\n",
       "<table border=\"1\" class=\"dataframe\">\n",
       "  <thead>\n",
       "    <tr style=\"text-align: right;\">\n",
       "      <th></th>\n",
       "      <th>person_age</th>\n",
       "      <th>person_income</th>\n",
       "      <th>person_home_ownership</th>\n",
       "      <th>person_emp_length</th>\n",
       "      <th>loan_intent</th>\n",
       "      <th>loan_grade</th>\n",
       "      <th>loan_amnt</th>\n",
       "      <th>loan_int_rate</th>\n",
       "      <th>loan_status</th>\n",
       "      <th>loan_percent_income</th>\n",
       "      <th>cb_person_default_on_file</th>\n",
       "      <th>cb_person_cred_hist_length</th>\n",
       "    </tr>\n",
       "  </thead>\n",
       "  <tbody>\n",
       "    <tr>\n",
       "      <th>0</th>\n",
       "      <td>22</td>\n",
       "      <td>59000</td>\n",
       "      <td>RENT</td>\n",
       "      <td>123.0</td>\n",
       "      <td>PERSONAL</td>\n",
       "      <td>D</td>\n",
       "      <td>35000</td>\n",
       "      <td>16.02</td>\n",
       "      <td>1</td>\n",
       "      <td>0.59</td>\n",
       "      <td>Y</td>\n",
       "      <td>3</td>\n",
       "    </tr>\n",
       "    <tr>\n",
       "      <th>1</th>\n",
       "      <td>21</td>\n",
       "      <td>9600</td>\n",
       "      <td>OWN</td>\n",
       "      <td>5.0</td>\n",
       "      <td>EDUCATION</td>\n",
       "      <td>B</td>\n",
       "      <td>1000</td>\n",
       "      <td>11.14</td>\n",
       "      <td>0</td>\n",
       "      <td>0.10</td>\n",
       "      <td>N</td>\n",
       "      <td>2</td>\n",
       "    </tr>\n",
       "    <tr>\n",
       "      <th>2</th>\n",
       "      <td>25</td>\n",
       "      <td>9600</td>\n",
       "      <td>MORTGAGE</td>\n",
       "      <td>1.0</td>\n",
       "      <td>MEDICAL</td>\n",
       "      <td>C</td>\n",
       "      <td>5500</td>\n",
       "      <td>12.87</td>\n",
       "      <td>1</td>\n",
       "      <td>0.57</td>\n",
       "      <td>N</td>\n",
       "      <td>3</td>\n",
       "    </tr>\n",
       "    <tr>\n",
       "      <th>3</th>\n",
       "      <td>23</td>\n",
       "      <td>65500</td>\n",
       "      <td>RENT</td>\n",
       "      <td>4.0</td>\n",
       "      <td>MEDICAL</td>\n",
       "      <td>C</td>\n",
       "      <td>35000</td>\n",
       "      <td>15.23</td>\n",
       "      <td>1</td>\n",
       "      <td>0.53</td>\n",
       "      <td>N</td>\n",
       "      <td>2</td>\n",
       "    </tr>\n",
       "    <tr>\n",
       "      <th>4</th>\n",
       "      <td>24</td>\n",
       "      <td>54400</td>\n",
       "      <td>RENT</td>\n",
       "      <td>8.0</td>\n",
       "      <td>MEDICAL</td>\n",
       "      <td>C</td>\n",
       "      <td>35000</td>\n",
       "      <td>14.27</td>\n",
       "      <td>1</td>\n",
       "      <td>0.55</td>\n",
       "      <td>Y</td>\n",
       "      <td>4</td>\n",
       "    </tr>\n",
       "  </tbody>\n",
       "</table>\n",
       "</div>"
      ],
      "text/plain": [
       "   person_age  person_income person_home_ownership  person_emp_length  \\\n",
       "0          22          59000                  RENT              123.0   \n",
       "1          21           9600                   OWN                5.0   \n",
       "2          25           9600              MORTGAGE                1.0   \n",
       "3          23          65500                  RENT                4.0   \n",
       "4          24          54400                  RENT                8.0   \n",
       "\n",
       "  loan_intent loan_grade  loan_amnt  loan_int_rate  loan_status  \\\n",
       "0    PERSONAL          D      35000          16.02            1   \n",
       "1   EDUCATION          B       1000          11.14            0   \n",
       "2     MEDICAL          C       5500          12.87            1   \n",
       "3     MEDICAL          C      35000          15.23            1   \n",
       "4     MEDICAL          C      35000          14.27            1   \n",
       "\n",
       "   loan_percent_income cb_person_default_on_file  cb_person_cred_hist_length  \n",
       "0                 0.59                         Y                           3  \n",
       "1                 0.10                         N                           2  \n",
       "2                 0.57                         N                           3  \n",
       "3                 0.53                         N                           2  \n",
       "4                 0.55                         Y                           4  "
      ]
     },
     "execution_count": 13,
     "metadata": {},
     "output_type": "execute_result"
    }
   ],
   "source": [
    "df.head()"
   ]
  },
  {
   "cell_type": "markdown",
   "metadata": {},
   "source": [
    "Посмотрим на количество пропущенных значений по каждому признаку."
   ]
  },
  {
   "cell_type": "code",
   "execution_count": 299,
   "metadata": {},
   "outputs": [
    {
     "data": {
      "text/plain": [
       "person_age                       0\n",
       "person_income                    0\n",
       "person_home_ownership            0\n",
       "person_emp_length              895\n",
       "loan_intent                      0\n",
       "loan_grade                       0\n",
       "loan_amnt                        0\n",
       "loan_int_rate                 3116\n",
       "loan_status                      0\n",
       "loan_percent_income              0\n",
       "cb_person_default_on_file        0\n",
       "cb_person_cred_hist_length       0\n",
       "dtype: int64"
      ]
     },
     "execution_count": 299,
     "metadata": {},
     "output_type": "execute_result"
    }
   ],
   "source": [
    "df.isnull().sum()"
   ]
  },
  {
   "cell_type": "markdown",
   "metadata": {},
   "source": [
    "Как видим в нашем датасете пропущенные значения имеют только признаки person_emp_length и loan_in_rate, восстановлением которых мы и будем заниматься. Заметим, что оба признаки являются числовыми, что по большей части развязывает нам руки в использывании различных методов заполнения пропущенных значений, но некоторую проблему составляют другие категориальные описания наших объектов, ниже рассмотрим возможные способы преодоления этой трудности.  \n",
    "\n",
    "Посмотрим какую доля от всех наблюдений состовляют пропущенные значенния."
   ]
  },
  {
   "cell_type": "code",
   "execution_count": 297,
   "metadata": {},
   "outputs": [
    {
     "name": "stdout",
     "output_type": "stream",
     "text": [
      "percent nan of person_emp_length feature = 0.03\n",
      "percent nan of loan_int_rate feature = 0.10\n"
     ]
    }
   ],
   "source": [
    "count_person_emp_length_na = (df['person_emp_length'].isnull() > 0).sum()\n",
    "print('percent nan of person_emp_length feature = %.2f' % (count_person_emp_length_na / df.shape[0]))\n",
    "count_loan_int_rate_na = (df['loan_int_rate'].isnull() > 0).sum()\n",
    "print('percent nan of loan_int_rate feature = %.2f' % (count_loan_int_rate_na / df.shape[0]))"
   ]
  },
  {
   "cell_type": "markdown",
   "metadata": {},
   "source": [
    "Как видим выше признак ***person_emp_length*** имеет всего 3 процента пропущенных значений, который предположительно мы сможем восстанавливать достаточного хорошо, по той очевидной причины что мы имеем больше информации для обучения нашего метода заполнения пропущенных значений, чуть более хуже ситуация обстоит с признаком ***loan_int_rate***, который имеет 10 процентов не заполненных значений."
   ]
  },
  {
   "cell_type": "markdown",
   "metadata": {},
   "source": [
    "Опишем как будет работать функция, которая занимается подсчетом метрика качества (в нашем случае это будет mse) способа заполнения пропущенных значений. Изначально мы избавимся от всех наблюдений (строчек в датасете) которые по некоторому признаку имеют N/A, так как это является проблемой для метрических алгоритмов и если по нашему признаку отсутствует значение для обучения такие объекты не несут никакой дополнительной информации. Далее что бы получить более менее адеквытные оценки качества (избежать переобучения) будем обучаться на кросс-валидации, будем использовать кросс-валидацию с 10 фолдами, то есть наш датасет будет 10 раз разбиваться на train и test в соотношении 9 к 1, потом мы на трайне и тесты выкидует по percent_missing (параметр функции, который отвечает за процент объектов выбор, о которым мы \"забываем\" информацию по данной фиче) процентов объектов от их размера, на трайне обучаем наш алгоритм заполнения пропущенныех данных, потом делаем предсказание на тесте, в котором затерты настоящие значения, далее берем вектор признаков из теста с настоящими значениями и вектор признаков с предсказаными значения, выкидуем из обеих векторов элементы которые мы не предсказывали, считаем mse и в итоге усредняем по все фолдам.\n",
    "\n",
    "Сама функция test_imputer принимает в себя наш дасасет, imputer - который реализует интерфейс fit/transform, имя признака в DataFrame, далее индекс признака и процент пропущенных значений."
   ]
  },
  {
   "cell_type": "code",
   "execution_count": 573,
   "metadata": {},
   "outputs": [],
   "source": [
    "def test_imputer(dataframe, imputer, feature_name, feature_column_number, percent_missing):\n",
    "    df_free_na = dataframe.dropna()\n",
    "    values = []\n",
    "    kfold = KFold(n_splits=10)\n",
    "    for train_index, test_index in kfold.split(df_free_na):\n",
    "        X_train, X_test = df_free_na.iloc[train_index], df_free_na.iloc[test_index]\n",
    "        train_drop_na_idx = np.random.choice(X_train.shape[0], int(X_train.shape[0] * percent_missing),\n",
    "                                            replace=False)\n",
    "        test_drop_na_idx = np.random.choice(X_test.shape[0], int(X_test.shape[0] * percent_missing),\n",
    "                                           replace=False)\n",
    "        X_train_drop_na = X_train.copy()\n",
    "        X_test_drop_na = X_test.copy()\n",
    "        X_train_drop_na.iloc[train_drop_na_idx, X_train_drop_na.columns.get_loc(feature_name)] = np.nan\n",
    "        X_test_drop_na.iloc[test_drop_na_idx, X_test_drop_na.columns.get_loc(feature_name)] = np.nan\n",
    "        \n",
    "        imputer.fit(X_train_drop_na)\n",
    "        X_predict = imputer.transform(X_test_drop_na)\n",
    "        predict_values = X_predict[:, feature_column_number]\n",
    "        true_values = X_test.iloc[:, X_test.columns.get_loc(feature_name)]\n",
    "        predict_values = predict_values[test_drop_na_idx]\n",
    "        true_values = np.array(true_values)[test_drop_na_idx]\n",
    "        values.append(mean_squared_error(true_values, predict_values))\n",
    "    return np.mean(values)"
   ]
  },
  {
   "cell_type": "markdown",
   "metadata": {},
   "source": [
    "Теперь когда мы имеем инструмент для подсчета метрика качества алгоритма заполнения пропущенных значений, мы можем занять непосредственным их тестированием."
   ]
  },
  {
   "cell_type": "markdown",
   "metadata": {},
   "source": [
    "Рассмотри два наивных imputer: ***SimpleImputer(strategy='mean')*** и ***SimpleImputer(strategy='median')***. Первый занимается тем, что меняет пропущенное значение признака, на средние значение это признака на трайне, второй действует аналогично, только вместо среднего использует моду."
   ]
  },
  {
   "cell_type": "markdown",
   "metadata": {},
   "source": [
    "И также рассмотри не такой тривиальный imputer: ***KNNImputer(n_neighbor=5)***, который занимается тем что для объекта у которого пропущенного значение признакка, он находит 5 ближайних объектов в трайне и усредняет значение признака по ним.\n"
   ]
  },
  {
   "cell_type": "markdown",
   "metadata": {},
   "source": [
    "И так как KKNImputer является метрическим алгоритмов, появляется проблема о которой упоминалось выше, а именно работа с категориальными признаками. Используя тривиальный метод перенумерацию категориальных признаком мы можем попасть в неприятные ситуации, которые сильно ухудшать работу любого метрического алгоритма. Стоит начать с того, если на категориальных объектах не было задано отношения порядка, то при перенумерации она появлятся, и теперь на некоторые значения признака можно смотреть как на более значимые чем другие, хотя изначально такого свойста не наблюдалось. И второй важный момент это порядки величин, при перенумираци и нас появятся значения по признаку $1, 2, ..., N$, в том время как другие вещественные значение могут имеет значения в некой небольшой окрестности некоторого числа, очевидно с такой проблемой стоит бороться с помощью нормировки, но все же это не решает проблемы что величина признака соответствует его важности, и в такой постановку невозможно решать задачу минимизации / максимизации. "
   ]
  },
  {
   "cell_type": "markdown",
   "metadata": {},
   "source": [
    "Посмотрим какие значения имеют наши признаки."
   ]
  },
  {
   "cell_type": "code",
   "execution_count": 582,
   "metadata": {},
   "outputs": [
    {
     "data": {
      "text/plain": [
       "person_age                      int64\n",
       "person_income                   int64\n",
       "person_home_ownership          object\n",
       "person_emp_length             float64\n",
       "loan_intent                    object\n",
       "loan_grade                     object\n",
       "loan_amnt                       int64\n",
       "loan_int_rate                 float64\n",
       "loan_status                     int64\n",
       "loan_percent_income           float64\n",
       "cb_person_default_on_file      object\n",
       "cb_person_cred_hist_length      int64\n",
       "dtype: object"
      ]
     },
     "execution_count": 582,
     "metadata": {},
     "output_type": "execute_result"
    }
   ],
   "source": [
    "df.dtypes"
   ]
  },
  {
   "cell_type": "markdown",
   "metadata": {},
   "source": [
    "Выделим числовые признаки."
   ]
  },
  {
   "cell_type": "code",
   "execution_count": 606,
   "metadata": {},
   "outputs": [],
   "source": [
    "numerical_feature_names = []\n",
    "for feature_name in df.dtypes.index:\n",
    "    if df.dtypes[feature_name] in ['int64', 'float64']:\n",
    "        numerical_feature_names.append(feature_name)"
   ]
  },
  {
   "cell_type": "code",
   "execution_count": 607,
   "metadata": {},
   "outputs": [],
   "source": [
    "df_numerical = df[numerical_feature_names]"
   ]
  },
  {
   "cell_type": "markdown",
   "metadata": {},
   "source": [
    "Посмотрим на наш датасет, который состоит только из числовых признаков:"
   ]
  },
  {
   "cell_type": "code",
   "execution_count": 608,
   "metadata": {
    "scrolled": true
   },
   "outputs": [
    {
     "data": {
      "text/html": [
       "<div>\n",
       "<style scoped>\n",
       "    .dataframe tbody tr th:only-of-type {\n",
       "        vertical-align: middle;\n",
       "    }\n",
       "\n",
       "    .dataframe tbody tr th {\n",
       "        vertical-align: top;\n",
       "    }\n",
       "\n",
       "    .dataframe thead th {\n",
       "        text-align: right;\n",
       "    }\n",
       "</style>\n",
       "<table border=\"1\" class=\"dataframe\">\n",
       "  <thead>\n",
       "    <tr style=\"text-align: right;\">\n",
       "      <th></th>\n",
       "      <th>person_age</th>\n",
       "      <th>person_income</th>\n",
       "      <th>person_emp_length</th>\n",
       "      <th>loan_amnt</th>\n",
       "      <th>loan_int_rate</th>\n",
       "      <th>loan_status</th>\n",
       "      <th>loan_percent_income</th>\n",
       "      <th>cb_person_cred_hist_length</th>\n",
       "    </tr>\n",
       "  </thead>\n",
       "  <tbody>\n",
       "    <tr>\n",
       "      <th>0</th>\n",
       "      <td>22</td>\n",
       "      <td>59000</td>\n",
       "      <td>123.0</td>\n",
       "      <td>35000</td>\n",
       "      <td>16.02</td>\n",
       "      <td>1</td>\n",
       "      <td>0.59</td>\n",
       "      <td>3</td>\n",
       "    </tr>\n",
       "    <tr>\n",
       "      <th>1</th>\n",
       "      <td>6</td>\n",
       "      <td>1</td>\n",
       "      <td>1.0</td>\n",
       "      <td>1</td>\n",
       "      <td>1.00</td>\n",
       "      <td>1</td>\n",
       "      <td>1.00</td>\n",
       "      <td>1</td>\n",
       "    </tr>\n",
       "    <tr>\n",
       "      <th>2</th>\n",
       "      <td>6</td>\n",
       "      <td>1</td>\n",
       "      <td>1.0</td>\n",
       "      <td>1</td>\n",
       "      <td>1.00</td>\n",
       "      <td>1</td>\n",
       "      <td>1.00</td>\n",
       "      <td>1</td>\n",
       "    </tr>\n",
       "    <tr>\n",
       "      <th>3</th>\n",
       "      <td>6</td>\n",
       "      <td>1</td>\n",
       "      <td>1.0</td>\n",
       "      <td>1</td>\n",
       "      <td>1.00</td>\n",
       "      <td>1</td>\n",
       "      <td>1.00</td>\n",
       "      <td>1</td>\n",
       "    </tr>\n",
       "    <tr>\n",
       "      <th>4</th>\n",
       "      <td>6</td>\n",
       "      <td>1</td>\n",
       "      <td>1.0</td>\n",
       "      <td>1</td>\n",
       "      <td>1.00</td>\n",
       "      <td>1</td>\n",
       "      <td>1.00</td>\n",
       "      <td>1</td>\n",
       "    </tr>\n",
       "  </tbody>\n",
       "</table>\n",
       "</div>"
      ],
      "text/plain": [
       "   person_age  person_income  person_emp_length  loan_amnt  loan_int_rate  \\\n",
       "0          22          59000              123.0      35000          16.02   \n",
       "1           6              1                1.0          1           1.00   \n",
       "2           6              1                1.0          1           1.00   \n",
       "3           6              1                1.0          1           1.00   \n",
       "4           6              1                1.0          1           1.00   \n",
       "\n",
       "   loan_status  loan_percent_income  cb_person_cred_hist_length  \n",
       "0            1                 0.59                           3  \n",
       "1            1                 1.00                           1  \n",
       "2            1                 1.00                           1  \n",
       "3            1                 1.00                           1  \n",
       "4            1                 1.00                           1  "
      ]
     },
     "execution_count": 608,
     "metadata": {},
     "output_type": "execute_result"
    }
   ],
   "source": [
    "df_numerical.head()"
   ]
  },
  {
   "cell_type": "markdown",
   "metadata": {},
   "source": [
    "Теперь отнормируем данные."
   ]
  },
  {
   "cell_type": "code",
   "execution_count": 622,
   "metadata": {},
   "outputs": [],
   "source": [
    "scaler = StandardScaler()\n",
    "df_numerical = pd.DataFrame(scaler.fit_transform(df_numerical), columns=df_numerical.columns)"
   ]
  },
  {
   "cell_type": "markdown",
   "metadata": {},
   "source": [
    "Пока не будем трогать признаки ***loan_int_rate*** и ***person_emp_length***, которые имеют пропуски в изначальной выборке, а протестируем алгоритмы на признаках ***person_income*** и ***loan_amnt***."
   ]
  },
  {
   "cell_type": "markdown",
   "metadata": {},
   "source": [
    "Для избежания зависимости от разбиения на кросс-валидации проведем каждый эксперимент 5 раз и усредним результаты."
   ]
  },
  {
   "cell_type": "code",
   "execution_count": 751,
   "metadata": {},
   "outputs": [],
   "source": [
    "missing_level = [0.05, 0.1, 0.15]\n",
    "score_result_second = np.zeros((len(missing_level), 2))\n",
    "count_test = 5\n",
    "for idx_test in range(count_test):\n",
    "    for idx, percent_missing in enumerate(missing_level):\n",
    "        score_result_second[idx][0] += test_imputer(df_numerical, SimpleImputer(strategy='mean'), 'person_income',\n",
    "                                             df_numerical.columns.get_loc('person_income'), percent_missing)\n",
    "        score_result_second[idx][1] += test_imputer(df_numerical, SimpleImputer(strategy='mean'), 'loan_amnt',\n",
    "                                             df_numerical.columns.get_loc('loan_amnt'), percent_missing)\n",
    "score_result_second /= count_test"
   ]
  },
  {
   "cell_type": "markdown",
   "metadata": {},
   "source": [
    "Построим график зависимости mse от процента пропущенных значений."
   ]
  },
  {
   "cell_type": "code",
   "execution_count": 752,
   "metadata": {},
   "outputs": [
    {
     "data": {
      "image/png": "[encoded data removed]",
      "text/plain": [
       "<Figure size 864x288 with 2 Axes>"
      ]
     },
     "metadata": {
      "needs_background": "light"
     },
     "output_type": "display_data"
    }
   ],
   "source": [
    "plt.figure(figsize=(12, 4))\n",
    "plt.subplot(1, 2, 1)\n",
    "plt.title('mse, feature=person_income')\n",
    "plt.xticks(missing_level)\n",
    "plt.plot(missing_level, score_result_second[:, 0], c='red')\n",
    "plt.xlabel(\"percent missing\")\n",
    "plt.ylabel(\"mse\")\n",
    "\n",
    "plt.subplot(1, 2, 2)\n",
    "plt.xticks(missing_level)\n",
    "plt.title('mse, feature=loan_amnt')\n",
    "plt.plot(missing_level, score_result_second[:, 1], c='blue')\n",
    "plt.xlabel(\"percent missing\")\n",
    "plt.ylabel(\"mse\")\n",
    "\n",
    "plt.show()"
   ]
  },
  {
   "cell_type": "markdown",
   "metadata": {},
   "source": [
    "Как видим в зависимости от увеличения числа пропусков по признаку ***person_income*** растет mse, что и было вполне ожидаемо. Для признака ***loan_amnt*** мы имеем mse на уровне около 1 для всех возможных процентов пропущенных значений, это объясняется тем что мы используем самый примитивный метод (заполняем пропущенные значения средним), и он работает одинаково хорошо (или плохо) для полученных нами данных по этому признаку."
   ]
  },
  {
   "cell_type": "markdown",
   "metadata": {},
   "source": [
    "Теперь проведем аналогичные эксперименты для ***SimpleImputer(strategy='median')*** и для ***KNNImputer(n_neighbor=5)***. "
   ]
  },
  {
   "cell_type": "code",
   "execution_count": 708,
   "metadata": {},
   "outputs": [],
   "source": [
    "missing_level = [0.05, 0.1, 0.15]\n",
    "score_result_first = np.zeros((len(missing_level), 2))\n",
    "count_test = 5\n",
    "for idx_test in range(count_test):\n",
    "    for idx, percent_missing in enumerate(missing_level):\n",
    "        score_result_first[idx][0] += test_imputer(df_numerical, SimpleImputer(strategy='median'), 'person_income',\n",
    "                                             df_numerical.columns.get_loc('person_income'), percent_missing)\n",
    "        score_result_first[idx][1] += test_imputer(df_numerical, SimpleImputer(strategy='median'), 'loan_amnt',\n",
    "                                             df_numerical.columns.get_loc('loan_amnt'), percent_missing)\n",
    "score_result_first /= count_test"
   ]
  },
  {
   "cell_type": "markdown",
   "metadata": {},
   "source": [
    "Построим графики."
   ]
  },
  {
   "cell_type": "code",
   "execution_count": 709,
   "metadata": {},
   "outputs": [
    {
     "data": {
      "image/png": "[encoded data removed]",
      "text/plain": [
       "<Figure size 864x288 with 2 Axes>"
      ]
     },
     "metadata": {
      "needs_background": "light"
     },
     "output_type": "display_data"
    }
   ],
   "source": [
    "plt.figure(figsize=(12, 4))\n",
    "plt.subplot(1, 2, 1)\n",
    "plt.title('mse, feature=person_income')\n",
    "plt.xticks(missing_level)\n",
    "plt.plot(missing_level, score_result_first[:, 0], c='red')\n",
    "plt.xlabel(\"percent missing\")\n",
    "plt.ylabel(\"mse\")\n",
    "\n",
    "plt.subplot(1, 2, 2)\n",
    "plt.xticks(missing_level)\n",
    "plt.title('mse, feature=loan_amnt')\n",
    "plt.plot(missing_level, score_result_first[:, 1], c='blue')\n",
    "plt.xlabel(\"percent missing\")\n",
    "plt.ylabel(\"mse\")\n",
    "\n",
    "plt.show()"
   ]
  },
  {
   "cell_type": "markdown",
   "metadata": {},
   "source": [
    "Как видим выше, мы получили аналогичную ситуацию с той что была раньше."
   ]
  },
  {
   "cell_type": "markdown",
   "metadata": {},
   "source": [
    "И теперь протестируем последний метод - ***KNNImputer***"
   ]
  },
  {
   "cell_type": "code",
   "execution_count": 700,
   "metadata": {},
   "outputs": [],
   "source": [
    "missing_level = [0.05, 0.1, 0.15]\n",
    "score_result = np.zeros((len(missing_level), 2))\n",
    "count_test = 5\n",
    "for idx_test in range(count_test):\n",
    "    for idx, percent_missing in enumerate(missing_level):\n",
    "        score_result[idx][0] += test_imputer(df_numerical, KNNImputer(n_neighbors=5), 'person_income',\n",
    "                                             df_numerical.columns.get_loc('person_income'), percent_missing)\n",
    "        score_result[idx][1] += test_imputer(df_numerical, KNNImputer(n_neighbors=5), 'loan_amnt',\n",
    "                                             df_numerical.columns.get_loc('loan_amnt'), percent_missing)\n",
    "score_result /= count_test"
   ]
  },
  {
   "cell_type": "markdown",
   "metadata": {},
   "source": [
    "Построим графики."
   ]
  },
  {
   "cell_type": "code",
   "execution_count": 703,
   "metadata": {},
   "outputs": [
    {
     "data": {
      "image/png": "[encoded data removed]",
      "text/plain": [
       "<Figure size 864x288 with 2 Axes>"
      ]
     },
     "metadata": {
      "needs_background": "light"
     },
     "output_type": "display_data"
    }
   ],
   "source": [
    "plt.figure(figsize=(12, 4))\n",
    "plt.subplot(1, 2, 1)\n",
    "plt.title('mse, feature=person_income')\n",
    "plt.xticks(missing_level)\n",
    "plt.plot(missing_level, score_result[:, 0], c='red')\n",
    "plt.xlabel(\"percent missing\")\n",
    "plt.ylabel(\"mse\")\n",
    "\n",
    "plt.subplot(1, 2, 2)\n",
    "plt.xticks(missing_level)\n",
    "plt.title('mse, feature=loan_amnt')\n",
    "plt.plot(missing_level, score_result[:, 1], c='blue')\n",
    "plt.xlabel(\"percent missing\")\n",
    "plt.ylabel(\"mse\")\n",
    "\n",
    "plt.show()"
   ]
  },
  {
   "cell_type": "markdown",
   "metadata": {},
   "source": [
    "Как видим при потерях 0.05 - 0.10 mse держиться на уровне около 0.3 для признака ***person_income*** и далее растет при увеличении числа пропусков. Для признака ***loan_amnt*** mse имеет значение около 0.135 для всех уровеней \"забывания данных\"."
   ]
  },
  {
   "cell_type": "markdown",
   "metadata": {},
   "source": [
    "Далее, что бы сравнивать наши алгоритмы восстановления пропусков в данных, построим графики зависимостей mse все на одном графике."
   ]
  },
  {
   "cell_type": "code",
   "execution_count": 764,
   "metadata": {},
   "outputs": [
    {
     "data": {
      "image/png": "[encoded data removed]",
      "text/plain": [
       "<Figure size 864x288 with 2 Axes>"
      ]
     },
     "metadata": {
      "needs_background": "light"
     },
     "output_type": "display_data"
    }
   ],
   "source": [
    "plt.figure(figsize=(12, 4))\n",
    "\n",
    "plt.subplot(1, 2, 1)\n",
    "plt.title('mse, feature=person_income')\n",
    "plt.xticks(missing_level)\n",
    "plt.xlabel(\"percent missing\")\n",
    "plt.ylabel(\"mse\")\n",
    "plt.plot(missing_level, score_result_second[:, 0], c='red', label='mean')\n",
    "plt.plot(missing_level, score_result_first[:, 0], c='blue', label='median')\n",
    "plt.plot(missing_level, score_result[:, 0], c='green', label='KNN')\n",
    "plt.legend()\n",
    "\n",
    "plt.subplot(1, 2, 2)\n",
    "plt.title('mse, feature=loan_amnt')\n",
    "plt.xticks(missing_level)\n",
    "plt.xlabel(\"percent missing\")\n",
    "plt.ylabel(\"mse\")\n",
    "plt.plot(missing_level, score_result_second[:, 1], c='red', label='mean')\n",
    "plt.plot(missing_level, score_result_first[:, 1], c='blue', label='median')\n",
    "plt.plot(missing_level, score_result[:, 1], c='green', label='KNN')\n",
    "plt.legend()\n",
    "plt.show()\n"
   ]
  },
  {
   "cell_type": "markdown",
   "metadata": {},
   "source": [
    "Получаем вполне ожидаему картину, что для признака ***person_income*** лучше все восстанавливает пропуски KNN (для любого уровня пропущенных значений). По признаку ***loan_amnt*** ситуация обстоит таким образом, что в независимости от количества пропуской мы имеем примерно одинакой mse, но опять же лучше всего показывает себя KNNImputer. Можно сделать следующие выводы, что примитивные методы заполнения могут работать и работать очень быстро относительно других методов, и в некотых случаях находят свое применение. Но KNN более сложно идейный работает лучше, но при этом и достаточно медленно. (все упирается в асимпотическую сложность поиска k ближайших соседей, но неким образом такой барьер можно расширить если довольствоваться приблизительными k соседями, тогда выступают такие методы, как например - navigable small world, и т.д.)\n"
   ]
  },
  {
   "cell_type": "markdown",
   "metadata": {},
   "source": [
    "В конечном итоге применим KNN что бы заполнить пропуски в нашем датасете."
   ]
  },
  {
   "cell_type": "code",
   "execution_count": 777,
   "metadata": {},
   "outputs": [],
   "source": [
    "knn_imputer = KNNImputer(n_neighbors=5)\n",
    "predict = pd.DataFrame(knn_imputer.fit_transform(df_numerical), columns=df_numerical.columns)\n",
    "df_full = df.copy()\n",
    "df_full['person_emp_length'] = predict['person_emp_length']\n",
    "df_full['loan_int_rate'] = predict['loan_int_rate']"
   ]
  },
  {
   "cell_type": "markdown",
   "metadata": {},
   "source": [
    "Посмотри остались ли в нашем новом датасете пропуски."
   ]
  },
  {
   "cell_type": "code",
   "execution_count": 781,
   "metadata": {},
   "outputs": [
    {
     "data": {
      "text/plain": [
       "person_age                    0\n",
       "person_income                 0\n",
       "person_home_ownership         0\n",
       "person_emp_length             0\n",
       "loan_intent                   0\n",
       "loan_grade                    0\n",
       "loan_amnt                     0\n",
       "loan_int_rate                 0\n",
       "loan_status                   0\n",
       "loan_percent_income           0\n",
       "cb_person_default_on_file     0\n",
       "cb_person_cred_hist_length    0\n",
       "dtype: int64"
      ]
     },
     "execution_count": 781,
     "metadata": {},
     "output_type": "execute_result"
    }
   ],
   "source": [
    "df_full.isnull().sum()"
   ]
  },
  {
   "cell_type": "markdown",
   "metadata": {},
   "source": [
    "Пропусков нет, отличная работа!"
   ]
  },
  {
   "cell_type": "markdown",
   "metadata": {},
   "source": [
    "Теперь разберемся с ***экспоненциальным сглаживанием.***"
   ]
  },
  {
   "cell_type": "markdown",
   "metadata": {},
   "source": [
    "Будем работать с признаком ***person_income***."
   ]
  },
  {
   "cell_type": "markdown",
   "metadata": {},
   "source": [
    "Посмотрим на зависимости дохода от номера человека."
   ]
  },
  {
   "cell_type": "code",
   "execution_count": 793,
   "metadata": {
    "scrolled": true
   },
   "outputs": [
    {
     "data": {
      "image/png": "[encoded data removed]",
      "text/plain": [
       "<Figure size 1152x288 with 1 Axes>"
      ]
     },
     "metadata": {
      "needs_background": "light"
     },
     "output_type": "display_data"
    }
   ],
   "source": [
    "plt.figure(figsize=(16, 4))\n",
    "plt.title('person income')\n",
    "plt.xlabel('person number')\n",
    "plt.ylabel('income')\n",
    "plt.plot(np.arange(df.shape[0]), df['person_income'])\n",
    "plt.show()"
   ]
  },
  {
   "cell_type": "code",
   "execution_count": 799,
   "metadata": {},
   "outputs": [],
   "source": [
    "from statsmodels.tsa.api import ExponentialSmoothing, SimpleExpSmoothing"
   ]
  },
  {
   "cell_type": "markdown",
   "metadata": {},
   "source": [
    "Теперь применим экспоненциальное сглаживание."
   ]
  },
  {
   "cell_type": "code",
   "execution_count": 819,
   "metadata": {},
   "outputs": [],
   "source": [
    "values = df['person_income']\n",
    "fit_first = SimpleExpSmoothing(values, initialization_method=\"estimated\").fit(smoothing_level=0.2,optimized=False)\n",
    "values_smooth = fit_first.fittedvalues"
   ]
  },
  {
   "cell_type": "markdown",
   "metadata": {},
   "source": [
    "Гладкая кривая."
   ]
  },
  {
   "cell_type": "code",
   "execution_count": 825,
   "metadata": {},
   "outputs": [
    {
     "data": {
      "image/png": "[encoded data removed]",
      "text/plain": [
       "<Figure size 1152x288 with 1 Axes>"
      ]
     },
     "metadata": {
      "needs_background": "light"
     },
     "output_type": "display_data"
    }
   ],
   "source": [
    "plt.figure(figsize=(16, 4))\n",
    "plt.title('smooth person income')\n",
    "plt.plot(np.arange(len(values_smooth)), values_smooth, c='red')\n",
    "plt.ylabel('income')\n",
    "plt.show()"
   ]
  },
  {
   "cell_type": "markdown",
   "metadata": {},
   "source": [
    "На одном графике."
   ]
  },
  {
   "cell_type": "code",
   "execution_count": 828,
   "metadata": {},
   "outputs": [
    {
     "data": {
      "image/png": "[encoded data removed]",
      "text/plain": [
       "<Figure size 1152x288 with 1 Axes>"
      ]
     },
     "metadata": {
      "needs_background": "light"
     },
     "output_type": "display_data"
    }
   ],
   "source": [
    "plt.figure(figsize=(16, 4))\n",
    "plt.title('smooth and origin person income')\n",
    "plt.plot(np.arange(len(values)), values, c='blue', label='origin')\n",
    "plt.plot(np.arange(len(values_smooth)), values_smooth, c='red', label='smooth')\n",
    "plt.ylabel('person income')\n",
    "plt.show()"
   ]
  },
  {
   "cell_type": "markdown",
   "metadata": {},
   "source": [
    "Можно сделать следующие выводы, что экспоненциальное сглаживание позволяет уменьшить дисперсию данных, тем самым давая нам возможность строить более робастные модели. Так же в некоторой мере мы избавляемся от выбрсов в данных, которые могут сильно влиять на качество алгоритмов машинного обучения."
   ]
  }
 ],
 "metadata": {
  "kernelspec": {
   "display_name": "Python 3",
   "language": "python",
   "name": "python3"
  },
  "language_info": {
   "codemirror_mode": {
    "name": "ipython",
    "version": 3
   },
   "file_extension": ".py",
   "mimetype": "text/x-python",
   "name": "python",
   "nbconvert_exporter": "python",
   "pygments_lexer": "ipython3",
   "version": "3.6.9"
  }
 },
 "nbformat": 4,
 "nbformat_minor": 4
}
